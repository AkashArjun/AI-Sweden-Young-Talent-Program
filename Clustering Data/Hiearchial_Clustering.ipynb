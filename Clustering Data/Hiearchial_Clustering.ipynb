{
 "cells": [
  {
   "cell_type": "code",
   "execution_count": 1,
   "metadata": {},
   "outputs": [],
   "source": [
    "import pandas as pd\n",
    "import json\n",
    "import numpy as np\n",
    "#from scipy.cluster.vq import kmeans2\n",
    "from tabulate import tabulate\n",
    "import matplotlib.pyplot as plt\n",
    "from sklearn.cluster import AgglomerativeClustering\n",
    "from sklearn.preprocessing import StandardScaler\n",
    "import scipy.cluster.hierarchy as sch"
   ]
  },
  {
   "cell_type": "code",
   "execution_count": 2,
   "metadata": {},
   "outputs": [],
   "source": [
    "import warnings\n",
    "warnings.filterwarnings(\"ignore\")"
   ]
  },
  {
   "cell_type": "code",
   "execution_count": 3,
   "metadata": {},
   "outputs": [],
   "source": [
    "file = open(r\"C:\\Users\\akash\\Documents\\AI_Sweden\\CarbonZero_Eando\\result.json\", encoding=\"utf-8\")\n",
    "result = json.load(file)\n",
    "result_df = pd.DataFrame(result)\n",
    "\n",
    "name_index = result_df[\"name\"]\n",
    "name = result_df.copy()\n",
    "name = name.drop(columns=\"embedding\")\n",
    "result_df_copy = result_df.drop(columns=[\"name\"], axis=1)\n",
    "vector_matrix = np.array(result_df_copy[\"embedding\"].values.tolist())\n",
    "vector_dataframe = pd.DataFrame(vector_matrix)\n",
    "vector_dataframe[vector_dataframe.columns] = StandardScaler().fit_transform(vector_dataframe)"
   ]
  },
  {
   "cell_type": "code",
   "execution_count": 4,
   "metadata": {},
   "outputs": [
    {
     "data": {
      "text/plain": [
       "Text(0, 0.5, 'Euclidean distance')"
      ]
     },
     "execution_count": 4,
     "metadata": {},
     "output_type": "execute_result"
    },
    {
     "data": {
      "image/png": "[encoded data removed]",
      "text/plain": [
       "<Figure size 640x480 with 1 Axes>"
      ]
     },
     "metadata": {},
     "output_type": "display_data"
    }
   ],
   "source": [
    "#generationg and plotting the dendogram\n",
    "dendogram = sch.dendrogram(sch.linkage(vector_dataframe, method='ward', metric='euclidean'), no_labels=True)\n",
    "plt.title('Dendogram')\n",
    "plt.ylabel('Euclidean distance')"
   ]
  },
  {
   "cell_type": "code",
   "execution_count": 5,
   "metadata": {},
   "outputs": [],
   "source": [
    "#calculating the best possible number of clusters by measuring the highest euclidean distance \n",
    "def optimal_cluster_number(start):\n",
    "    cluster = 1\n",
    "    difference = []\n",
    "    index = start\n",
    "    for i in range(200,0,-1):\n",
    "        hc2 = AgglomerativeClustering(n_clusters=None,distance_threshold=i)\n",
    "        hc2.fit(vector_dataframe)\n",
    "        if(cluster < hc2.n_clusters_ ):\n",
    "            cluster = cluster+1\n",
    "            difference.append([index -i,i])\n",
    "            index = i\n",
    "            # if(difference < index-i):\n",
    "            #     index = i\n",
    "    return max(difference)[1]"
   ]
  },
  {
   "cell_type": "code",
   "execution_count": 19,
   "metadata": {},
   "outputs": [
    {
     "name": "stdout",
     "output_type": "stream",
     "text": [
      "Cluster  0 : \n",
      "INST. GUIDE RÖR & GÄNGTOLK\n",
      "T-RÖR ROT FKR  12XR15 UTV\n",
      "10 KLÄMRING 2-P ADM\n",
      "10 STÖDHYLSA 5ST ADM\n",
      "12 KLÄMRING 2-P ADM\n",
      "12 STÖDHYLSA 5ST BP ADM\n",
      "12X10 FÖRMINSKNING KLK 2-P ADM\n",
      "12X8 FÖRMINSKNING KLK 2-P ADM\n",
      "15 KLÄMRING 2-P ADM\n",
      "15 STÖDHYLSA 5ST ADM\n",
      "15 T-RÖR KLK ADM\n",
      "15X10 FÖRMINSKNING 2ST ADM\n",
      "15X12 FÖRMINSKNING KLK 2-P ADM\n",
      "15x15x12 T-RÖR KLK ADM\n",
      "15X8 FÖRMINSKNING KLK 2-P ADM\n",
      "18 KLÄMRING 2-P ADM\n",
      "18X12 FÖRMINSKNING KLK 2-P ADM\n",
      "18X15 FÖRMINSKNING KLK 2-P ADM\n",
      "22 KLÄMRING 2-P ADM\n",
      "22 PLUGG KLK 2-P ADM\n",
      "22 STÖDHYLSA 3ST  ADM\n",
      "22 T-RÖR KLK GUL ADM\n",
      "22 VINKEL KLK ADM\n",
      "22X12 FÖRMINSKNING KLK 2-P ADM\n",
      "22X15 FÖRMINSKNING KLK 2-P ADM\n",
      "22X18 FÖRMINSKNING KLK 2-P ADM\n",
      "28 KLÄMRING 2-P ADM\n",
      "28X15 FÖRMINSKNING KLK 2-P ADM\n",
      "28X22 FÖRMINSKNING KLK 2-P ADM\n",
      "FÖRMINSKNINGSSATS 10x8 2-P ADM\n",
      "PEX STÖDHYLSA 12 5ST   ADM\n",
      "PEX STÖDHYLSA 15 5ST ADM\n",
      "PLUGG 10 2-P ADM\n",
      "PLUGG 12 2-P ADM\n",
      "PLUGG 15 2-P ADM\n",
      "----------------------------------------------\n",
      "Cluster  1 : \n",
      "KOPPARRÖR RAKA L= 2,5 M 12X1,0\n",
      "KOPPARRÖR RAKA L= 2,5 M 15X1,0\n",
      "KOPPARRÖR RAKA L= 2,5 M 22X1,0\n",
      "HALVKOPP.FKR 15XR15  ADM\n",
      "HALVKOPPLING 10XR10  ADM\n",
      "HALVKOPPLING 12XR10   ADM\n",
      "HALVKOPPLING 16XR15   ADM\n",
      "HALVKOPPLING.FKR 10XR15  ADM\n",
      "HALVKOPPLING.FKR 12XR15  ADM\n",
      "HALVKOPPLING.FKR 8XR15  ADM\n",
      "KLÄMR.KOPPL RAK 10XR15UTV ADM\n",
      "KLÄMR.KOPPL RAK 12XR15INV ADM\n",
      "KLÄMR.KOPPL RAK 12 ADM\n",
      "KLÄMR.KOPPL RAK 15 ADM\n",
      "KLÄMR.KOPPL RAK 12XR10INV ADM\n",
      "KLÄMR.KOPPL RAK 15XR15INV ADM\n",
      "KLÄMR.KOPPL RAK 12XR10UTV ADM\n",
      "KLÄMR.KOPPL RAK 12XR15UTV ADM\n",
      "KLÄMR.KOPPL RAK 15XR15UTV ADM\n",
      "KLÄMR.KOPPL T-RÖR 12X10 ADM\n",
      "KLÄMR.KOPPL T-RÖR 15X12 ADM\n",
      "KLÄMR.KOPPL T-RÖR CUXCU 10 ADM\n",
      "KLÄMR.KOPPL T-RÖR CUXCU 12 ADM\n",
      "KLÄMR.KOPPL VKL 12XR15INV ADM\n",
      "KLÄMR.KOPPL VKL 12XR15UTV ADM\n",
      "KLÄMR.KOPPL VKL 15XR15INV ADM\n",
      "KLÄMR.KOPPL VKL 15XR15UTV ADM\n",
      "KLÄMR.KOPPL VKL CUXCU 10 ADM\n",
      "KLÄMR.KOPPL VKL CUXCU 12 ADM\n",
      "KLÄMR.KOPPL VKL CUXCU 15 ADM\n",
      "----------------------------------------------\n",
      "Cluster  2 : \n",
      "10 RAK KLK ADM\n",
      "10 RAK KLK GUL ADM\n",
      "12 RAK KLK GUL ADM\n",
      "12X10 RAK KLK GUL ADM\n",
      "12X10 RAK KLK ADM\n",
      "15 RAK KLK GUL ADM\n",
      "15X10 RAK KLK GUL ADM\n",
      "15X10 RAK KLK ADM\n",
      "15X12 RAK KLK GUL ADM\n",
      "15X12 RAK KLK M STÖDH. ADM\n",
      "16X15 RAK KLK GUL ADM\n",
      "18 RAK KLK GUL ADM\n",
      "22 RAK KLK ADM\n",
      "22X15 RAK KLK GUL ADM\n",
      "22XG15 RAK UTV KLK GUL ADM\n",
      "22XR20 RAK UTV.GG GUL ADM\n",
      "28 RAK KLK GUL ADM\n",
      "28X22 RAK KLK GUL ADM\n",
      "28XR25 RAK UTV.GG GUL ADM\n",
      "----------------------------------------------\n",
      "Cluster  3 : \n",
      "PRISOLRÖR 10X0.8 25M\n",
      "PRISOLRÖR 12X1.0 25M\n",
      "PRISOLRÖR 15X1.0 25M\n",
      "PRISOLRÖR 12X1,0MM 5M CARAT\n",
      "PRISOLRÖR 15X1,0MM 5M CARAT\n",
      "PRISOLRÖR 10X0,8MM 5M\n",
      "PRISOLRÖR 15X1,0MM 5M\n",
      "----------------------------------------------\n",
      "Cluster  4 : \n",
      "KLÄMR.MUTTER 10XR10FKR 2ST ADM\n",
      "KLÄMR.MUTTER 10XR15FN 2ST  ADM\n",
      "KLÄMR.MUTTER 12XR10FN 2ST ADM\n",
      "KLÄMR.MUTTER 12XR15FN 2ST  ADM\n",
      "KLÄMR.MUTTER 12XR20FN 2ST  ADM\n",
      "KLÄMR.MUTTER 15XR15FN 2ST  ADM\n",
      "KLÄMR.MUTTER 15XR20FN 2ST  ADM\n",
      "KLÄMR.MUTTER 16XR15FN 2ST  ADM\n",
      "KLÄMR.MUTTER 22XR20FN 2ST  ADM\n",
      "----------------------------------------------\n"
     ]
    }
   ],
   "source": [
    "hc_optimal = AgglomerativeClustering(n_clusters=None, distance_threshold=optimal_cluster_number(200))\n",
    "hc_optimal.fit(vector_dataframe)\n",
    "json_file_path = r\"C:\\Users\\akash\\Documents\\AI_Sweden\\CarbonZero_Eando\\Clustered_data.json\"\n",
    "for i in range(hc_optimal.n_clusters_):\n",
    "    # print(\"Cluster \",i,\": \",vector_dataframe[hc.labels_ == i].index)\n",
    "    print(\"Cluster \",i,\": \")\n",
    "    vec = np.array((vector_dataframe[hc_optimal.labels_ == i].index))\n",
    "    \n",
    "    for j in vec:\n",
    "        print(name.loc[j, \"name\"])\n",
    "        \n",
    "    print(\"----------------------------------------------\")"
   ]
  }
 ],
 "metadata": {
  "kernelspec": {
   "display_name": "Python 3",
   "language": "python",
   "name": "python3"
  },
  "language_info": {
   "codemirror_mode": {
    "name": "ipython",
    "version": 3
   },
   "file_extension": ".py",
   "mimetype": "text/x-python",
   "name": "python",
   "nbconvert_exporter": "python",
   "pygments_lexer": "ipython3",
   "version": "3.11.4"
  }
 },
 "nbformat": 4,
 "nbformat_minor": 2
}
